{
 "cells": [
  {
   "cell_type": "code",
   "execution_count": 1,
   "id": "b85a3cb0-6a0f-4148-9b0c-6be2ffd52b2f",
   "metadata": {
    "collapsed": true,
    "jupyter": {
     "outputs_hidden": true
    },
    "tags": []
   },
   "outputs": [],
   "source": [
    "# !pip install imageio"
   ]
  },
  {
   "cell_type": "code",
   "execution_count": 2,
   "id": "a9a1fdb4-5e29-47a8-ad28-128e268849a0",
   "metadata": {
    "tags": []
   },
   "outputs": [],
   "source": [
    "import pandas as pd\n",
    "import matplotlib.pyplot as plt\n",
    "from pathlib import Path\n",
    "from wordcloud import WordCloud, STOPWORDS\n",
    "import imageio\n",
    "import ipywidgets"
   ]
  },
  {
   "cell_type": "code",
   "execution_count": 3,
   "id": "ef677822-1452-4768-bd51-f14daad4afe3",
   "metadata": {
    "tags": []
   },
   "outputs": [
    {
     "data": {
      "text/html": [
       "<div>\n",
       "<style scoped>\n",
       "    .dataframe tbody tr th:only-of-type {\n",
       "        vertical-align: middle;\n",
       "    }\n",
       "\n",
       "    .dataframe tbody tr th {\n",
       "        vertical-align: top;\n",
       "    }\n",
       "\n",
       "    .dataframe thead th {\n",
       "        text-align: right;\n",
       "    }\n",
       "</style>\n",
       "<table border=\"1\" class=\"dataframe\">\n",
       "  <thead>\n",
       "    <tr style=\"text-align: right;\">\n",
       "      <th></th>\n",
       "      <th>Accent</th>\n",
       "      <th>Clips</th>\n",
       "      <th>Speakers</th>\n",
       "      <th>Duration (s)</th>\n",
       "      <th>Country</th>\n",
       "      <th>Splits</th>\n",
       "    </tr>\n",
       "  </thead>\n",
       "  <tbody>\n",
       "    <tr>\n",
       "      <th>0</th>\n",
       "      <td>yoruba</td>\n",
       "      <td>15407</td>\n",
       "      <td>683</td>\n",
       "      <td>161587.55</td>\n",
       "      <td>US;NG</td>\n",
       "      <td>train;test;dev</td>\n",
       "    </tr>\n",
       "    <tr>\n",
       "      <th>1</th>\n",
       "      <td>igbo</td>\n",
       "      <td>8677</td>\n",
       "      <td>374</td>\n",
       "      <td>93035.79</td>\n",
       "      <td>US;NG;ZA</td>\n",
       "      <td>train;test;dev</td>\n",
       "    </tr>\n",
       "    <tr>\n",
       "      <th>2</th>\n",
       "      <td>swahili</td>\n",
       "      <td>6320</td>\n",
       "      <td>119</td>\n",
       "      <td>55932.82</td>\n",
       "      <td>KE;TZ;ZA;UG</td>\n",
       "      <td>train;test;dev</td>\n",
       "    </tr>\n",
       "    <tr>\n",
       "      <th>3</th>\n",
       "      <td>hausa</td>\n",
       "      <td>5765</td>\n",
       "      <td>248</td>\n",
       "      <td>70878.67</td>\n",
       "      <td>NG</td>\n",
       "      <td>train;test;dev</td>\n",
       "    </tr>\n",
       "    <tr>\n",
       "      <th>4</th>\n",
       "      <td>ijaw</td>\n",
       "      <td>2499</td>\n",
       "      <td>105</td>\n",
       "      <td>33178.90</td>\n",
       "      <td>NG</td>\n",
       "      <td>train;test;dev</td>\n",
       "    </tr>\n",
       "  </tbody>\n",
       "</table>\n",
       "</div>"
      ],
      "text/plain": [
       "    Accent  Clips  Speakers  Duration (s)      Country          Splits\n",
       "0   yoruba  15407       683     161587.55        US;NG  train;test;dev\n",
       "1     igbo   8677       374      93035.79     US;NG;ZA  train;test;dev\n",
       "2  swahili   6320       119      55932.82  KE;TZ;ZA;UG  train;test;dev\n",
       "3    hausa   5765       248      70878.67           NG  train;test;dev\n",
       "4     ijaw   2499       105      33178.90           NG  train;test;dev"
      ]
     },
     "execution_count": 3,
     "metadata": {},
     "output_type": "execute_result"
    }
   ],
   "source": [
    "df = pd.read_csv(\"C:/Users/kanye/Downloads/AfriSpeech Languages.csv\", sep=';')\n",
    "df.head(5)"
   ]
  },
  {
   "cell_type": "code",
   "execution_count": 4,
   "id": "3e2bd832-857f-4f05-8855-c8fb788d7566",
   "metadata": {
    "tags": []
   },
   "outputs": [],
   "source": [
    "text = \" \".join(cat.split()[0] for cat in df.Accent)"
   ]
  },
  {
   "cell_type": "code",
   "execution_count": 5,
   "id": "c1e971a3-0941-4df4-8e00-d8e6f97a71d3",
   "metadata": {
    "tags": []
   },
   "outputs": [],
   "source": [
    "def plot_cloud(wordcloud):\n",
    "    plt.figure(figsize=(15,5))\n",
    "    plt.figure(figsize=(15,5))\n",
    "    plt.imshow(wordcloud)\n",
    "    plt.axis(\"off\")\n",
    "wordcloud = WordCloud(width=3000, height=2000, background_color= 'black',\n",
    "                     colormap='plasma', collocations = False, stopwords = STOPWORDS).generate(text)"
   ]
  },
  {
   "cell_type": "code",
   "execution_count": 6,
   "id": "954d2901-ac5a-4464-a739-601f9064bb55",
   "metadata": {
    "tags": []
   },
   "outputs": [
    {
     "data": {
      "text/plain": [
       "<wordcloud.wordcloud.WordCloud at 0x1a49dde8880>"
      ]
     },
     "execution_count": 6,
     "metadata": {},
     "output_type": "execute_result"
    }
   ],
   "source": [
    "wordcloud.to_file(\"/Users/kanye/Downloads/Afrispeech_Languages.png\")"
   ]
  }
 ],
 "metadata": {
  "kernelspec": {
   "display_name": "Python 3 (ipykernel)",
   "language": "python",
   "name": "python3"
  },
  "language_info": {
   "codemirror_mode": {
    "name": "ipython",
    "version": 3
   },
   "file_extension": ".py",
   "mimetype": "text/x-python",
   "name": "python",
   "nbconvert_exporter": "python",
   "pygments_lexer": "ipython3",
   "version": "3.10.1"
  }
 },
 "nbformat": 4,
 "nbformat_minor": 5
}