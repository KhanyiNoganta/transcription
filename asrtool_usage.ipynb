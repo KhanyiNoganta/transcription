{
 "cells": [
  {
   "cell_type": "markdown",
   "metadata": {
    "id": "YcaRGcNBvcVb"
   },
   "source": [
    "# ASR Tool Access\n",
    "\n",
    "The tool can be accessed from the following link [kanyekuthi-asr-tool](https://huggingface.co/spaces/kanyekuthi/kanyekuthi-dsn_afrispeech) and the model information can be found [kanyekuthi-model-information](https://huggingface.co/kanyekuthi/dsn_afrispeech)\n",
    "\n",
    "The tool can also be accessed from the transformers library using the example script below:"
   ]
  },
  {
   "cell_type": "code",
   "execution_count": 2,
   "metadata": {
    "id": "zvbc8oxzttnN"
   },
   "outputs": [],
   "source": [
    "import torch\n",
    "from transformers import pipeline"
   ]
  },
  {
   "cell_type": "code",
   "execution_count": 3,
   "metadata": {
    "colab": {
     "base_uri": "https://localhost:8080/",
     "height": 53
    },
    "collapsed": true,
    "id": "N_J5HS9PtxfM",
    "jupyter": {
     "outputs_hidden": true
    },
    "outputId": "e06cd33b-d101-43f5-ec9e-82553dca811a",
    "tags": []
   },
   "outputs": [
    {
     "name": "stderr",
     "output_type": "stream",
     "text": [
      "Special tokens have been added in the vocabulary, make sure the associated word embeddings are fine-tuned or trained.\n",
      "Special tokens have been added in the vocabulary, make sure the associated word embeddings are fine-tuned or trained.\n"
     ]
    }
   ],
   "source": [
    "%%capture\n",
    "pipe = pipeline(\"automatic-speech-recognition\", model=\"kanyekuthi/dsn_afrispeech\")"
   ]
  },
  {
   "cell_type": "markdown",
   "metadata": {},
   "source": [
    "## Examples"
   ]
  },
  {
   "cell_type": "code",
   "execution_count": 4,
   "metadata": {
    "colab": {
     "base_uri": "https://localhost:8080/"
    },
    "id": "FKoHCsZEt33D",
    "outputId": "4ca64131-00c1-4e81-c2cb-e507b7dfa959"
   },
   "outputs": [
    {
     "name": "stdout",
     "output_type": "stream",
     "text": [
      "Hello, so we just like to use this audio for testing purposes. We are using it to test the transcription tool that Kanyi has developed.\n"
     ]
    }
   ],
   "source": [
    "# audio file 1 (Human)\n",
    "transcribe = pipe(\"asr.mp4\",chunk_length_s=30)\n",
    "print(transcribe[\"text\"][:500])"
   ]
  },
  {
   "cell_type": "markdown",
   "metadata": {},
   "source": [
    "Hello, so we just like to use this audio for testing purposes. We are using it to test the transcription tool that Kanyi has developed."
   ]
  },
  {
   "cell_type": "code",
   "execution_count": 5,
   "metadata": {
    "colab": {
     "base_uri": "https://localhost:8080/"
    },
    "id": "tl4YPvK0w6wP",
    "outputId": "2253ce0f-0fea-4936-d544-7a7ec049b62b"
   },
   "outputs": [
    {
     "name": "stdout",
     "output_type": "stream",
     "text": [
      "Hey this is just a test audio to basically just check if the transcription tool is working. I was wondering if we can use this just to see what the transcription would look like. Let me know if it works it needs to be shorter than 30 seconds. Thank you.\n"
     ]
    }
   ],
   "source": [
    "# audio file 2 (Human)\n",
    "transcribe = pipe(\"whatsapp_test.ogg\",chunk_length_s=30)\n",
    "print(transcribe[\"text\"][:500])"
   ]
  },
  {
   "cell_type": "markdown",
   "metadata": {},
   "source": [
    "Hey this is just a test audio to basically just check if the transcription tool is working. I was wondering if we can use this just to see what the transcription would look like. Let me know if it works it needs to be shorter than 30 seconds. Thank you."
   ]
  },
  {
   "cell_type": "code",
   "execution_count": 7,
   "metadata": {
    "colab": {
     "base_uri": "https://localhost:8080/"
    },
    "id": "UvIy5HQ-xEed",
    "outputId": "c28dbf13-b6a6-4b01-a49c-eb4bc1737d9e"
   },
   "outputs": [
    {
     "name": "stdout",
     "output_type": "stream",
     "text": [
      "Automatic speech recognition means converting spoken language to written text allowing for textual analysis, search and processing of spoken content.\n"
     ]
    }
   ],
   "source": [
    "# audio file 3 (Automated Voice)\n",
    "transcribe = pipe(\"automatic_speech.mp3\",chunk_length_s=30)\n",
    "print(transcribe[\"text\"][:500])"
   ]
  },
  {
   "cell_type": "markdown",
   "metadata": {},
   "source": [
    "Automatic speech recognition means converting spoken language to written text allowing for textual analysis, search and processing of spoken content."
   ]
  }
 ],
 "metadata": {
  "colab": {
   "provenance": []
  },
  "kernelspec": {
   "display_name": "Python 3 (ipykernel)",
   "language": "python",
   "name": "python3"
  },
  "language_info": {
   "codemirror_mode": {
    "name": "ipython",
    "version": 3
   },
   "file_extension": ".py",
   "mimetype": "text/x-python",
   "name": "python",
   "nbconvert_exporter": "python",
   "pygments_lexer": "ipython3",
   "version": "3.10.1"
  }
 },
 "nbformat": 4,
 "nbformat_minor": 4
}
